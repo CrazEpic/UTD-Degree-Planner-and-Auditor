{
 "cells": [
  {
   "cell_type": "code",
   "execution_count": null,
   "id": "e43aa7cb",
   "metadata": {},
   "outputs": [],
   "source": [
    "# pip install requests beautifulsoup4 anytree"
   ]
  },
  {
   "cell_type": "code",
   "execution_count": null,
   "id": "30ae66d9",
   "metadata": {},
   "outputs": [],
   "source": [
    "import requests\n",
    "import json\n",
    "from bs4 import BeautifulSoup\n",
    "from anytree import Node, RenderTree\n",
    "import re"
   ]
  },
  {
   "cell_type": "code",
   "execution_count": null,
   "id": "beb1c037",
   "metadata": {},
   "outputs": [],
   "source": [
    "def get_transfer_school_credits_all():\n",
    "    test_credit_table = {}\n",
    "    for test_type, url in [\n",
    "        (\n",
    "            \"A & AS Level\",\n",
    "            \"https://transfercredit.utdallas.edu/search-by-test/a-as-level-credit/\",\n",
    "        ),\n",
    "        (\"AP\", \"https://transfercredit.utdallas.edu/search-by-test/ap-credit/\"),\n",
    "        (\"CLEP\", \"https://transfercredit.utdallas.edu/search-by-test/clep-credit/\"),\n",
    "        (\"IB\", \"https://transfercredit.utdallas.edu/search-by-test/ib-credit/\"),\n",
    "    ]:\n",
    "        r = requests.get(url)\n",
    "        soup = BeautifulSoup(r.content, \"html.parser\")\n",
    "        table = soup.find(\"table\")\n",
    "        table_body = table.find(\"tbody\")\n",
    "        rows = table_body.find_all(\"tr\")\n",
    "\n",
    "        for row in rows:\n",
    "            cols = row.find_all(\"td\")\n",
    "            # structure is\n",
    "            # Test Component | Exam | Earned Score | UTD Course(s) for which credit can be earned | Course Name | Max Claimable Hours\n",
    "            cols = [ele.text.strip() for ele in cols]\n",
    "            test_component = cols[0]\n",
    "            test_credit_table[test_component] = {\n",
    "                \"test_type\": test_type,\n",
    "                \"exam\": \" \".join(cols[1].split()),\n",
    "                \"earned_score\": \" \".join(cols[2].split()),\n",
    "                \"utd_courses\": \" \".join(cols[3].split()).replace(\"—\", \"---\"),\n",
    "                \"course_name\": \" \".join(cols[4].split()),\n",
    "                \"max_claimable_hours\": \" \".join(cols[5].split()),\n",
    "            }\n",
    "    return test_credit_table"
   ]
  },
  {
   "cell_type": "code",
   "execution_count": null,
   "id": "9b3db8d7",
   "metadata": {},
   "outputs": [],
   "source": [
    "test_credits_table = get_transfer_school_credits_all()"
   ]
  },
  {
   "cell_type": "code",
   "execution_count": null,
   "id": "958255b2",
   "metadata": {},
   "outputs": [],
   "source": [
    "for test_component, test_credit in test_credits_table.items():\n",
    "    # for now, ignore the flag for core curriculum credit\n",
    "    test_credit[\"exam\"] = test_credit[\"exam\"].replace(\"\\u2013\", \"-\")\n",
    "    test_credit[\"utd_courses\"] = test_credit[\"utd_courses\"].replace(\"+\", \" AND \")\n",
    "    test_credit[\"utd_courses\"] = \"\".join(\n",
    "        [x for x in test_credit[\"utd_courses\"] if x.isalnum() or x in [\" \", \",\", \"-\"]]\n",
    "    )\n",
    "    test_credit[\"utd_courses\"] = test_credit[\"utd_courses\"].replace(\"\\u2020\", \"\")\n",
    "    test_credit[\"utd_courses\"] = test_credit[\"utd_courses\"].upper()"
   ]
  },
  {
   "cell_type": "code",
   "execution_count": null,
   "id": "947c78f6",
   "metadata": {},
   "outputs": [],
   "source": [
    "# ok, so WHAP is the only test credit that has credit but is not a course at UTD, but they didn't label it like transfer credits\n",
    "test_credits_table[\"WH\"][\"utd_courses\"] = \"GNED 1040\""
   ]
  },
  {
   "cell_type": "code",
   "execution_count": null,
   "id": "b366ad26",
   "metadata": {},
   "outputs": [],
   "source": [
    "# for any numbering without a direct prefix, add the previous prefix\n",
    "# MATH 2312, 2333, 2413, STAT 1342, 2332\n",
    "for test_component, test_credit in test_credits_table.items():\n",
    "    # for now, ignore the flag for core curriculum credit\n",
    "    while True:\n",
    "        match = re.search(r\", [0-9-]+\", test_credit[\"utd_courses\"])\n",
    "        if match:\n",
    "            # find previous prefix\n",
    "            prefix = re.findall(r\"[A-Z]+\", test_credit[\"utd_courses\"])[: match.start()][\n",
    "                -1\n",
    "            ]\n",
    "            test_credit[\"utd_courses\"] = (\n",
    "                test_credit[\"utd_courses\"][: match.start() + 2]\n",
    "                + prefix\n",
    "                + test_credit[\"utd_courses\"][match.start() + 1 :]\n",
    "            )\n",
    "            match = None\n",
    "            continue\n",
    "        else:\n",
    "            break"
   ]
  },
  {
   "cell_type": "code",
   "execution_count": null,
   "id": "89a1adfe",
   "metadata": {},
   "outputs": [],
   "source": [
    "test_credits_final = {}\n",
    "for test_component, test_credit in test_credits_table.items():\n",
    "    test_credits_final[test_component] = {\n",
    "        \"testType\": test_credit[\"test_type\"],\n",
    "        \"examName\": test_credit[\"exam\"],\n",
    "        \"minScore\": int(test_credit[\"earned_score\"].split(\"-\")[0])\n",
    "        if \"-\" in test_credit[\"earned_score\"]\n",
    "        else int(test_credit[\"earned_score\"]),\n",
    "        \"maxScore\": int(test_credit[\"earned_score\"].split(\"-\")[1])\n",
    "        if \"-\" in test_credit[\"earned_score\"]\n",
    "        else int(test_credit[\"earned_score\"]),\n",
    "        \"maxClaimableHours\": int(float(test_credit[\"max_claimable_hours\"])),\n",
    "        # too lazy to do boolean trees again\n",
    "        \"utdEquivalencyCourses\": test_credit[\"utd_courses\"],\n",
    "    }"
   ]
  },
  {
   "cell_type": "code",
   "execution_count": null,
   "id": "4afef5ae",
   "metadata": {},
   "outputs": [],
   "source": [
    "# with open(\"test_credit_info.json\", \"w\", encoding=\"utf-8\") as f:\n",
    "#     json.dump(test_credits_final, f, indent=4)"
   ]
  },
  {
   "cell_type": "code",
   "execution_count": null,
   "id": "ab45aebe",
   "metadata": {},
   "outputs": [],
   "source": [
    "with open(\"test_credit_info.json\", \"r\") as file:\n",
    "    test_credits_final = json.load(file)"
   ]
  },
  {
   "cell_type": "markdown",
   "id": "decb8ca8",
   "metadata": {},
   "source": [
    "# Transfer Schools"
   ]
  },
  {
   "cell_type": "code",
   "execution_count": null,
   "id": "d5093e43",
   "metadata": {},
   "outputs": [],
   "source": [
    "def get_transfer_schools():\n",
    "    r = requests.get(\n",
    "        \"https://apps.utdallas.edu/transfercredit/schools.json\", verify=False\n",
    "    )\n",
    "    return json.loads(\n",
    "        f\"{{{r.text}}}\".replace(\"=\", \":\")\n",
    "        .replace(\"schools\", '\"schools\"')\n",
    "        .replace(\",]\", \"]\")\n",
    "    )\n",
    "\n",
    "\n",
    "transfer_schools = get_transfer_schools()"
   ]
  },
  {
   "cell_type": "code",
   "execution_count": null,
   "id": "b407e0ce",
   "metadata": {},
   "outputs": [],
   "source": [
    "transfer_school_credits = {}\n",
    "\n",
    "\n",
    "def set_transfer_school_credits(school_id):\n",
    "    r = requests.post(\n",
    "        \"https://apps.utdallas.edu/transfercredit/ajax.php\",\n",
    "        data={\"id\": school_id, \"option\": 1},\n",
    "        verify=False,\n",
    "    )\n",
    "    soup = BeautifulSoup(r.content, \"html.parser\")\n",
    "    table = soup.find(\"table\", {\"id\": \"schoolTable\"})\n",
    "    transfer_table = []\n",
    "    table_body = table.find(\"tbody\")\n",
    "    rows = table_body.find_all(\"tr\")\n",
    "    for row in rows:\n",
    "        # first column is External Course to Transfer, second is UTD Course Equivalent\n",
    "        cols = row.find_all(\"td\")\n",
    "        # joins all whitespace into one\n",
    "        external_course = \" \".join(cols[0].find(\"strong\").text.strip().split())\n",
    "        external_course_name = \" \".join(cols[0].find(\"br\").next_sibling.strip().split())\n",
    "        utd_course = \" \".join(cols[1].find(\"strong\").text.strip().split())\n",
    "        utd_course_name = \" \".join(cols[1].find(\"br\").next_sibling.strip().split())\n",
    "        transfer_table.append(\n",
    "            {\n",
    "                \"external_course\": external_course,\n",
    "                \"external_course_name\": external_course_name,\n",
    "                \"utd_course\": utd_course,\n",
    "                \"utd_course_name\": utd_course_name,\n",
    "            }\n",
    "        )\n",
    "    transfer_school_credits[school_id] = transfer_table"
   ]
  },
  {
   "cell_type": "code",
   "execution_count": null,
   "id": "54e0efe8",
   "metadata": {},
   "outputs": [],
   "source": [
    "from concurrent.futures import ThreadPoolExecutor\n",
    "\n",
    "transfer_school_credits = {}\n",
    "num_schools = len(transfer_schools[\"schools\"])\n",
    "with ThreadPoolExecutor(max_workers=500) as executor:\n",
    "    executor.map(\n",
    "        set_transfer_school_credits,\n",
    "        list(\n",
    "            map(\n",
    "                lambda x: transfer_schools[\"schools\"][x][\"school_id\"],\n",
    "                range(num_schools),\n",
    "            )\n",
    "        ),\n",
    "    )"
   ]
  },
  {
   "cell_type": "code",
   "execution_count": null,
   "id": "3054b5a0",
   "metadata": {},
   "outputs": [],
   "source": [
    "# with open(\"transfer_school_info.json\", \"w\", encoding=\"utf-8\") as f:\n",
    "#     json.dump(transfer_school_credits, f, indent=4)"
   ]
  },
  {
   "cell_type": "code",
   "execution_count": null,
   "id": "7a3f87d2",
   "metadata": {},
   "outputs": [],
   "source": [
    "with open(\"transfer_school_info.json\", \"r\") as file:\n",
    "    transfer_school_credits = json.load(file)"
   ]
  },
  {
   "cell_type": "code",
   "execution_count": null,
   "id": "8022cdbb",
   "metadata": {},
   "outputs": [],
   "source": [
    "transfer_school_credits_final = {}\n",
    "\n",
    "for school in transfer_schools[\"schools\"]:\n",
    "    school_id = school[\"school_id\"]\n",
    "    transfer_school_credits_final[school_id] = {\n",
    "        \"school_name\": school[\"school_name\"],\n",
    "        \"school_city\": school[\"school_city\"],\n",
    "        \"school_state\": school[\"school_state\"],\n",
    "        \"school_country\": school[\"school_country\"],\n",
    "        \"transfer_credits\": transfer_school_credits[school_id],\n",
    "    }"
   ]
  },
  {
   "cell_type": "code",
   "execution_count": null,
   "id": "ab137c7d",
   "metadata": {},
   "outputs": [],
   "source": [
    "# with open(\"transfer_school_credits_final.json\", \"w\", encoding=\"utf-8\") as f:\n",
    "#     json.dump(transfer_school_credits_final, f, indent=4)"
   ]
  },
  {
   "cell_type": "code",
   "execution_count": null,
   "id": "07af1a0b",
   "metadata": {},
   "outputs": [],
   "source": [
    "with open(\"transfer_school_credits_final.json\", \"r\") as file:\n",
    "    transfer_school_credits_final = json.load(file)"
   ]
  },
  {
   "cell_type": "code",
   "execution_count": null,
   "id": "92aa1419",
   "metadata": {},
   "outputs": [],
   "source": [
    "utd_courses_equivalency = [\n",
    "    credit[\"utd_course\"]\n",
    "    for school in transfer_school_credits_final.values()\n",
    "    for credit in school[\"transfer_credits\"]\n",
    "]\n",
    "utd_courses_equivalency = list(set(utd_courses_equivalency))\n",
    "utd_courses_equivalency.sort()"
   ]
  },
  {
   "cell_type": "code",
   "execution_count": null,
   "id": "382e8626",
   "metadata": {},
   "outputs": [],
   "source": [
    "with open(\"uh.txt\", \"w\") as f:\n",
    "    f.write(\"\\n\".join(utd_courses_equivalency))"
   ]
  },
  {
   "cell_type": "code",
   "execution_count": null,
   "id": "87c8c64f",
   "metadata": {},
   "outputs": [],
   "source": [
    "utd_courses_equivalency"
   ]
  },
  {
   "cell_type": "code",
   "execution_count": null,
   "id": "bfb9e91f",
   "metadata": {},
   "outputs": [],
   "source": [
    "transfer_info = {}\n",
    "for school_id, info in transfer_school_credits_final.items():\n",
    "    transfer_info[school_id] = {\n",
    "        \"schoolName\": info[\"school_name\"],\n",
    "        \"schoolCity\": info[\"school_city\"],\n",
    "        \"schoolState\": info[\"school_state\"],\n",
    "        \"schoolCountry\": info[\"school_country\"],\n",
    "        \"TransferCourseEquivalencies\": list(\n",
    "            map(\n",
    "                lambda x: {\n",
    "                    \"transferCourseID\": x[\"external_course\"],\n",
    "                    \"transferCourseName\": x[\"external_course_name\"],\n",
    "                    \"utdCourseEquivalency\": x[\"utd_course\"],\n",
    "                    \"utdCourseEquivalencyName\": x[\"utd_course_name\"],\n",
    "                    \"transferSchoolSchoolID\": school_id,\n",
    "                },\n",
    "                info[\"transfer_credits\"],\n",
    "            )\n",
    "        ),\n",
    "    }"
   ]
  },
  {
   "cell_type": "code",
   "execution_count": null,
   "id": "089a5fdf",
   "metadata": {},
   "outputs": [],
   "source": [
    "# with open(\"transfer_info.json\", \"w\", encoding=\"utf-8\") as f:\n",
    "#     json.dump(transfer_info, f, indent=4)"
   ]
  },
  {
   "cell_type": "code",
   "execution_count": null,
   "id": "3983480d",
   "metadata": {},
   "outputs": [],
   "source": [
    "with open(\"transfer_info.json\", \"r\") as file:\n",
    "    transfer_info = json.load(file)"
   ]
  },
  {
   "cell_type": "markdown",
   "id": "d6103201",
   "metadata": {},
   "source": [
    "# Courses"
   ]
  },
  {
   "cell_type": "code",
   "execution_count": null,
   "id": "aca45735",
   "metadata": {},
   "outputs": [],
   "source": [
    "def get_departments_table():\n",
    "    r = requests.get(\"https://catalog.utdallas.edu/2024/undergraduate/courses\")\n",
    "    soup = BeautifulSoup(r.content, \"html.parser\")\n",
    "    table = soup.find(\"table\", {\"id\": \"courses\"})\n",
    "    department_table = []\n",
    "    table_body = table.find(\"tbody\")\n",
    "\n",
    "    rows = table_body.find_all(\"tr\")\n",
    "    for row in rows:\n",
    "        cols = row.find_all(\"td\")\n",
    "        cols = [ele.text.strip() for ele in cols]\n",
    "        department_table.append([ele for ele in cols if ele])  # Get rid of empty values\n",
    "    return department_table\n",
    "\n",
    "\n",
    "department_table = get_departments_table()"
   ]
  },
  {
   "cell_type": "code",
   "execution_count": null,
   "id": "a0ea8f92",
   "metadata": {},
   "outputs": [],
   "source": [
    "def get_course_infomation(department_table):\n",
    "    courses = {}\n",
    "    for x in department_table:\n",
    "        prefix = x[0]\n",
    "        r = requests.get(\n",
    "            \"https://catalog.utdallas.edu/2024/undergraduate/courses/\" + prefix\n",
    "        )\n",
    "        soup = BeautifulSoup(r.content, \"html.parser\")\n",
    "        courses_listing = soup.find(\"div\", {\"id\": \"bukku-page\"})\n",
    "        paragraphs = courses_listing.find_all(\"p\")\n",
    "        for course in paragraphs:\n",
    "            course_id = course.get(\"id\").upper()\n",
    "            prefix = course_id[:-4]\n",
    "            number = course_id[-4:]\n",
    "            course_id = f\"{prefix} {number}\"\n",
    "            name = course.find(\"span\", {\"class\": \"course_title\"}).text.strip()\n",
    "            text = (\n",
    "                course.text.strip()\n",
    "                .replace(\",\", \"\")\n",
    "                .replace(\"or better\", \"\")\n",
    "                .replace(\"or higher\", \"\")\n",
    "                .replace(\"or equivalent\", \"\")\n",
    "                .replace(\"  \", \" \")\n",
    "            )\n",
    "            prerequisite_match = re.search(\n",
    "                r\"\\. Prerequisites?:\\s([a-zA-Z0-9\\(\\ )]*)\\.\", text\n",
    "            )\n",
    "            corequisite_match = re.search(\n",
    "                r\"\\. Corequisites?:\\s([a-zA-Z0-9\\(\\ )]*)\\.\", text\n",
    "            )\n",
    "            prerequisite_or_corequisite_match = re.search(\n",
    "                r\"\\. (Prerequisites? or Corequisites?:|Corequisites? or Prerequisites?:)\\s([a-zA-Z0-9\\(\\ )]*)\\.\",\n",
    "                text,\n",
    "            )\n",
    "            courses[course_id] = {\n",
    "                \"prefix\": prefix,\n",
    "                \"number\": number,\n",
    "                \"name\": name,\n",
    "                \"requisites\": {\n",
    "                    \"prerequisites\": prerequisite_match.group(1).strip()\n",
    "                    if prerequisite_match\n",
    "                    else \"\",\n",
    "                    \"corequisites\": corequisite_match.group(1).strip()\n",
    "                    if corequisite_match\n",
    "                    else \"\",\n",
    "                    \"prerequisitesOrCorequisites\": prerequisite_or_corequisite_match.group(\n",
    "                        2\n",
    "                    ).strip()\n",
    "                    if prerequisite_or_corequisite_match\n",
    "                    else \"\",\n",
    "                },\n",
    "            }\n",
    "    return courses"
   ]
  },
  {
   "cell_type": "code",
   "execution_count": null,
   "id": "2c0a6a2b",
   "metadata": {},
   "outputs": [],
   "source": [
    "# courses = get_course_infomation(list(filter(lambda x: x[0] == \"CS\", department_table)))\n",
    "courses = get_course_infomation(department_table)"
   ]
  },
  {
   "cell_type": "code",
   "execution_count": null,
   "id": "cf7d8d5e",
   "metadata": {},
   "outputs": [],
   "source": [
    "import copy\n",
    "\n",
    "courses2 = copy.deepcopy(courses)"
   ]
  },
  {
   "cell_type": "code",
   "execution_count": null,
   "id": "bd4b3d14",
   "metadata": {},
   "outputs": [],
   "source": [
    "print(json.dumps(courses, indent=4))"
   ]
  },
  {
   "cell_type": "markdown",
   "id": "9d244439",
   "metadata": {},
   "source": [
    "## Miscellaneous"
   ]
  },
  {
   "cell_type": "code",
   "execution_count": null,
   "id": "43a4a4fe",
   "metadata": {},
   "outputs": [],
   "source": [
    "# If you need to condense boolean trees"
   ]
  },
  {
   "cell_type": "code",
   "execution_count": null,
   "id": "eae43711",
   "metadata": {},
   "outputs": [],
   "source": [
    "# schools = {\n",
    "#     \"Erik Jonsson School of Engineering and Computer Science\",\n",
    "#     \"Harry W. Bass Jr. School of Arts, Humanities, and Technology\",\n",
    "#     \"Honors College\",\n",
    "#     \"Naveen Jindal School of Management\",\n",
    "#     \"School of Behavioral and Brain Sciences\",\n",
    "#     \"School of Economic, Political and Policy Sciences\",\n",
    "#     \"School of Interdisciplinary Studies\",\n",
    "#     \"School of Natural Sciences and Mathematics\",\n",
    "#     \"Undergraduate Studies\",\n",
    "# }"
   ]
  },
  {
   "cell_type": "code",
   "execution_count": null,
   "id": "1b9bfab2",
   "metadata": {},
   "outputs": [],
   "source": [
    "schools = {\n",
    "    \"Engineering and Computer Science\",\n",
    "    \"Arts, Humanities, and Technology\",\n",
    "    \"Honors College\",\n",
    "    \"Naveen Jindal Management\",\n",
    "    \"Behavioral and Brain Sciences\",\n",
    "    \"Economic, Political and Policy Sciences\",\n",
    "    \"Interdisciplinary Studies\",\n",
    "    \"Natural Sciences and Mathematics\",\n",
    "    \"Undergraduate Studies\",\n",
    "}"
   ]
  },
  {
   "cell_type": "code",
   "execution_count": null,
   "id": "82a29827",
   "metadata": {},
   "outputs": [],
   "source": [
    "def tokenize_req_description(desc):\n",
    "    desc = desc.upper()\n",
    "    desc = desc.replace(\"WITH A GRADE\", \"WITH A MINIMUM GRADE\")\n",
    "    # treat case WITH a GRADE as pretend multiplication\n",
    "    desc = desc.replace(\"WITH A MINIMUM GRADE\", \"COND WITH A MINIMUM GRADE\")\n",
    "    desc = desc.replace(\",\", \"\").replace(\".\", \"\")\n",
    "\n",
    "    # schools can have AND in their names\n",
    "    for school in schools:\n",
    "        desc = desc.replace(\n",
    "            school.upper().replace(\",\", \"\"),\n",
    "            school.upper().replace(\",\", \"\").replace(\"AND\", \"\"),\n",
    "        )\n",
    "    result = re.findall(\n",
    "        r\"(\\(|\\)|((?!\\bAND\\b|\\bOR\\b|\\bCOND\\b|\\(|\\)).)+|\\bAND\\b|\\bOR\\b|\\bCOND\\b)\", desc\n",
    "    )\n",
    "    return list(\n",
    "        map(lambda x: x[0].strip(), list(filter(lambda x: x[0].strip() != \"\", result)))\n",
    "    )"
   ]
  },
  {
   "cell_type": "code",
   "execution_count": null,
   "id": "3c0a5518",
   "metadata": {},
   "outputs": [],
   "source": [
    "# might want to change and to be higher precedence than or\n",
    "def infix_to_postfix(tokens):\n",
    "    if len(tokens) == 1:\n",
    "        return tokens\n",
    "\n",
    "    def precedence(op):\n",
    "        if op == \"COND\":\n",
    "            return 3\n",
    "        if op == \"AND\":\n",
    "            return 2\n",
    "        if op == \"OR\":\n",
    "            return 1\n",
    "        return 0\n",
    "\n",
    "    stack = []\n",
    "    result = []\n",
    "    for token in tokens:\n",
    "        if token == \"(\":\n",
    "            stack.append(token)\n",
    "        elif token == \")\":\n",
    "            while stack[-1] != \"(\":\n",
    "                result.append(stack.pop())\n",
    "            stack.pop()\n",
    "        elif token in [\"AND\", \"OR\", \"COND\"]:\n",
    "            while len(stack) > 0 and precedence(stack[-1]) >= precedence(token):\n",
    "                result.append(stack.pop())\n",
    "            stack.append(token)\n",
    "        else:  # append operand\n",
    "            result.append(token)\n",
    "    while len(stack) > 0:\n",
    "        result.append(stack.pop())\n",
    "    return result"
   ]
  },
  {
   "cell_type": "code",
   "execution_count": null,
   "id": "4b959674",
   "metadata": {},
   "outputs": [],
   "source": [
    "def postfix_to_tree(tokens):\n",
    "    if len(tokens) == 1:\n",
    "        return Node(\"AND\", children=[Node(tokens[0])])\n",
    "    operators = [\"AND\", \"OR\", \"COND\"]\n",
    "    stack = []\n",
    "    for token in tokens:\n",
    "        if token in operators:\n",
    "            right = stack.pop()\n",
    "            left = stack.pop()\n",
    "            stack.append(Node(token, children=[left, right]))\n",
    "        else:\n",
    "            stack.append(Node(token))\n",
    "    if len(tokens) == 1:\n",
    "        return stack.append(Node(tokens[0]))\n",
    "    return stack[0]"
   ]
  },
  {
   "cell_type": "code",
   "execution_count": null,
   "id": "dc328ab0",
   "metadata": {},
   "outputs": [],
   "source": [
    "# simplify binary tree operators by combining nodes with the same operator\n",
    "def simplify_tree(node):\n",
    "    if len(node.children) == 0:\n",
    "        return node\n",
    "    children = list(node.children)\n",
    "    # detach from parent\n",
    "    for child in children:\n",
    "        child.parent = None\n",
    "    for i in range(len(children)):\n",
    "        children[i] = simplify_tree(children[i])\n",
    "    # reattach to parent\n",
    "    node.children = children\n",
    "    if node.name == \"AND\":\n",
    "        children = []\n",
    "        for child in node.children:\n",
    "            if child.name == \"AND\":\n",
    "                children.extend(child.children)\n",
    "            else:\n",
    "                children.append(child)\n",
    "        node.children = children\n",
    "    if node.name == \"OR\":\n",
    "        children = []\n",
    "        for child in node.children:\n",
    "            if child.name == \"OR\":\n",
    "                children.extend(child.children)\n",
    "            else:\n",
    "                children.append(child)\n",
    "        node.children = children\n",
    "    if node.name == \"COND\":\n",
    "        children = []\n",
    "        for child in node.children:\n",
    "            if child.name == \"COND\":\n",
    "                children.extend(child.children)\n",
    "            else:\n",
    "                children.append(child)\n",
    "        node.children = children\n",
    "    return node"
   ]
  },
  {
   "cell_type": "code",
   "execution_count": null,
   "id": "05ec1677",
   "metadata": {},
   "outputs": [],
   "source": [
    "def displayTree(node):\n",
    "    for pre, _, node in RenderTree(node):\n",
    "        print(\"%s%s\" % (pre, node.name))"
   ]
  },
  {
   "cell_type": "code",
   "execution_count": null,
   "id": "36e6444e",
   "metadata": {},
   "outputs": [],
   "source": [
    "def tree_string(node):\n",
    "    result = \"\"\n",
    "    for pre, _, node in RenderTree(node):\n",
    "        result += \"%s%s\\n\" % (pre, node.name)\n",
    "    return result"
   ]
  },
  {
   "cell_type": "code",
   "execution_count": null,
   "id": "7871a874",
   "metadata": {},
   "outputs": [],
   "source": [
    "def force_AND_as_root(node):\n",
    "    return Node(\"AND\", children=[node])"
   ]
  },
  {
   "cell_type": "code",
   "execution_count": null,
   "id": "f8c12ef8",
   "metadata": {},
   "outputs": [],
   "source": [
    "def display_requisites_as_tree(req):\n",
    "    displayTree(\n",
    "        simplify_tree(\n",
    "            force_AND_as_root(\n",
    "                postfix_to_tree(infix_to_postfix(tokenize_req_description(req)))\n",
    "            )\n",
    "        )\n",
    "    )"
   ]
  },
  {
   "cell_type": "code",
   "execution_count": null,
   "id": "34d6fcc0",
   "metadata": {},
   "outputs": [],
   "source": [
    "def requisites_as_tree_string(req):\n",
    "    return tree_string(\n",
    "        simplify_tree(\n",
    "            force_AND_as_root(\n",
    "                postfix_to_tree(infix_to_postfix(tokenize_req_description(req)))\n",
    "            )\n",
    "        )\n",
    "    )"
   ]
  },
  {
   "cell_type": "code",
   "execution_count": null,
   "id": "fb9292d9",
   "metadata": {},
   "outputs": [],
   "source": [
    "courses3 = copy.deepcopy(courses2)\n",
    "with open(\"requisite_trees_big.txt\", \"w\", encoding=\"utf-8\") as f:\n",
    "    for course_id, course in courses3.items():\n",
    "        if course[\"requisites\"][\"prerequisites\"] != \"\":\n",
    "            f.write(f\"{course_id} {course['name']}\\n\")\n",
    "            f.write(\"Prerequisites or Corequisites:\\n\")\n",
    "            f.write(requisites_as_tree_string(course[\"requisites\"][\"prerequisites\"]))\n",
    "            f.write(\"\\n\")\n",
    "        if course[\"requisites\"][\"corequisites\"] != \"\":\n",
    "            f.write(f\"{course_id} {course['name']}\\n\")\n",
    "            f.write(\"Corequisites:\\n\")\n",
    "            f.write(requisites_as_tree_string(course[\"requisites\"][\"corequisites\"]))\n",
    "            f.write(\"\\n\")\n",
    "        if course[\"requisites\"][\"prerequisitesOrCorequisites\"] != \"\":\n",
    "            f.write(f\"{course_id} {course['name']}\\n\")\n",
    "            f.write(\"Prerequisites:\\n\")\n",
    "            f.write(\n",
    "                requisites_as_tree_string(\n",
    "                    course[\"requisites\"][\"prerequisitesOrCorequisites\"]\n",
    "                )\n",
    "            )\n",
    "            f.write(\"\\n\")"
   ]
  },
  {
   "cell_type": "markdown",
   "id": "1dbb3a53",
   "metadata": {},
   "source": [
    "## Requisites Final"
   ]
  },
  {
   "cell_type": "code",
   "execution_count": null,
   "id": "631051c6",
   "metadata": {},
   "outputs": [],
   "source": [
    "def boolean_tree_to_json(node):\n",
    "    if len(node.children) == 0:\n",
    "        return node.name\n",
    "    children = []\n",
    "    for child in node.children:\n",
    "        children.append(boolean_tree_to_json(child))\n",
    "    return {node.name: children}"
   ]
  },
  {
   "cell_type": "code",
   "execution_count": null,
   "id": "59e1a359",
   "metadata": {},
   "outputs": [],
   "source": [
    "def json_to_requisite_json(req, condition=None):\n",
    "    if type(req) is str:\n",
    "        course_pattern = re.compile(\"([A-Z]{2,4} [0-9V]{4})\")\n",
    "        if course_pattern.match(req):\n",
    "            if condition is not None:\n",
    "                return {\"type\": \"course\", \"courseID\": req, \"minGrade\": condition}\n",
    "            else:\n",
    "                return {\"type\": \"course\", \"courseID\": req}\n",
    "        else:\n",
    "            # just put everything else as custom\n",
    "            return {\"type\": \"custom\", \"text\": req}\n",
    "    for key in req:\n",
    "        if key == \"AND\":\n",
    "            return {\n",
    "                \"logicalOperator\": \"AND\",\n",
    "                \"requisites\": [json_to_requisite_json(x, condition) for x in req[key]],\n",
    "            }\n",
    "        if key == \"OR\":\n",
    "            return {\n",
    "                \"logicalOperator\": \"OR\",\n",
    "                \"requisites\": [json_to_requisite_json(x, condition) for x in req[key]],\n",
    "            }\n",
    "        if key == \"COND\":\n",
    "            # the minimum grade condition is the last key, trust me bro\n",
    "            condition_text = req[key][-1]\n",
    "            letter_grade = condition_text.replace(\"WITH A MINIMUM GRADE OF\", \"\").strip()\n",
    "            return [\n",
    "                json_to_requisite_json(x, letter_grade)\n",
    "                for x in req[key]\n",
    "                if \"WITH A MINIMUM GRADE\" not in x\n",
    "            ]"
   ]
  },
  {
   "cell_type": "code",
   "execution_count": null,
   "id": "ebd8dde0",
   "metadata": {},
   "outputs": [],
   "source": [
    "courses = copy.deepcopy(courses2)\n",
    "for course_id, course in courses.items():\n",
    "    if course[\"requisites\"][\"prerequisites\"] != \"\":\n",
    "        courses[course_id][\"requisites\"][\"prerequisites\"] = json_to_requisite_json(\n",
    "            boolean_tree_to_json(\n",
    "                simplify_tree(\n",
    "                    force_AND_as_root(\n",
    "                        postfix_to_tree(\n",
    "                            infix_to_postfix(\n",
    "                                tokenize_req_description(\n",
    "                                    courses[course_id][\"requisites\"][\"prerequisites\"]\n",
    "                                )\n",
    "                            )\n",
    "                        )\n",
    "                    )\n",
    "                )\n",
    "            )\n",
    "        )\n",
    "        # courses[course_id][\"requisites\"][\"prerequisites\"] = boolean_tree_to_json(simplify_tree(force_AND_as_root(postfix_to_tree(infix_to_postfix(tokenize_req_description(courses[course_id][\"requisites\"][\"prerequisites\"]))))))\n",
    "    else:\n",
    "        courses[course_id][\"requisites\"][\"prerequisites\"] = {}\n",
    "\n",
    "    if course[\"requisites\"][\"corequisites\"] != \"\":\n",
    "        courses[course_id][\"requisites\"][\"corequisites\"] = json_to_requisite_json(\n",
    "            boolean_tree_to_json(\n",
    "                simplify_tree(\n",
    "                    force_AND_as_root(\n",
    "                        postfix_to_tree(\n",
    "                            infix_to_postfix(\n",
    "                                tokenize_req_description(\n",
    "                                    course[\"requisites\"][\"corequisites\"]\n",
    "                                )\n",
    "                            )\n",
    "                        )\n",
    "                    )\n",
    "                )\n",
    "            )\n",
    "        )\n",
    "        # courses[course_id][\"requisites\"][\"corequisites\"] = boolean_tree_to_json(simplify_tree(force_AND_as_root(postfix_to_tree(infix_to_postfix(tokenize_req_description(course[\"requisites\"][\"corequisites\"]))))))\n",
    "    else:\n",
    "        courses[course_id][\"requisites\"][\"corequisites\"] = {}\n",
    "\n",
    "    if course[\"requisites\"][\"prerequisitesOrCorequisites\"] != \"\":\n",
    "        courses[course_id][\"requisites\"][\"prerequisitesOrCorequisites\"] = (\n",
    "            json_to_requisite_json(\n",
    "                boolean_tree_to_json(\n",
    "                    simplify_tree(\n",
    "                        force_AND_as_root(\n",
    "                            postfix_to_tree(\n",
    "                                infix_to_postfix(\n",
    "                                    tokenize_req_description(\n",
    "                                        course[\"requisites\"][\n",
    "                                            \"prerequisitesOrCorequisites\"\n",
    "                                        ]\n",
    "                                    )\n",
    "                                )\n",
    "                            )\n",
    "                        )\n",
    "                    )\n",
    "                )\n",
    "            )\n",
    "        )\n",
    "        # courses[course_id][\"requisites\"][\"prerequisitesOrCorequisites\"] = boolean_tree_to_json(simplify_tree(force_AND_as_root(postfix_to_tree(infix_to_postfix(tokenize_req_description(course[\"requisites\"][\"prerequisitesOrCorequisites\"]))))))\n",
    "    else:\n",
    "        courses[course_id][\"requisites\"][\"prerequisitesOrCorequisites\"] = {}"
   ]
  },
  {
   "cell_type": "code",
   "execution_count": null,
   "id": "22c4c324",
   "metadata": {},
   "outputs": [],
   "source": [
    "len(courses2)"
   ]
  },
  {
   "cell_type": "code",
   "execution_count": null,
   "id": "6b7c46b8",
   "metadata": {},
   "outputs": [],
   "source": [
    "with open(\"course_info.json\", \"w\", encoding=\"utf-8\") as f:\n",
    "    json.dump(courses, f, indent=4)"
   ]
  }
 ],
 "metadata": {
  "kernelspec": {
   "display_name": ".venv",
   "language": "python",
   "name": "python3"
  },
  "language_info": {
   "codemirror_mode": {
    "name": "ipython",
    "version": 3
   },
   "file_extension": ".py",
   "mimetype": "text/x-python",
   "name": "python",
   "nbconvert_exporter": "python",
   "pygments_lexer": "ipython3",
   "version": "3.11.0rc2"
  }
 },
 "nbformat": 4,
 "nbformat_minor": 5
}
