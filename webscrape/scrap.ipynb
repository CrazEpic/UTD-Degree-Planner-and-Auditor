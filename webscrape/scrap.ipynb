{
 "cells": [
  {
   "cell_type": "code",
   "execution_count": null,
   "id": "e43aa7cb",
   "metadata": {},
   "outputs": [],
   "source": [
    "# pip install requests beautifulsoup4 anytree"
   ]
  },
  {
   "cell_type": "code",
   "execution_count": null,
   "id": "30ae66d9",
   "metadata": {},
   "outputs": [],
   "source": [
    "import requests\n",
    "import json\n",
    "from bs4 import BeautifulSoup\n",
    "from anytree import Node, RenderTree\n",
    "import re"
   ]
  },
  {
   "cell_type": "markdown",
   "id": "decb8ca8",
   "metadata": {},
   "source": [
    "# Transfer Schools"
   ]
  },
  {
   "cell_type": "code",
   "execution_count": null,
   "id": "d5093e43",
   "metadata": {},
   "outputs": [],
   "source": [
    "def get_transfer_schools():\n",
    "    r = requests.get(\"https://apps.utdallas.edu/transfercredit/schools.json\", verify=False)\n",
    "    return json.loads(\n",
    "        f\"{{{r.text}}}\".replace(\"=\", \":\")\n",
    "        .replace(\"schools\", '\"schools\"')\n",
    "        .replace(\",]\", \"]\")\n",
    "    )\n",
    "\n",
    "transfer_schools = get_transfer_schools()"
   ]
  },
  {
   "cell_type": "code",
   "execution_count": null,
   "id": "c908842b",
   "metadata": {},
   "outputs": [],
   "source": [
    "print(json.dumps(transfer_schools, indent=4))"
   ]
  },
  {
   "cell_type": "markdown",
   "id": "d6103201",
   "metadata": {},
   "source": [
    "# Courses"
   ]
  },
  {
   "cell_type": "code",
   "execution_count": null,
   "id": "aca45735",
   "metadata": {},
   "outputs": [],
   "source": [
    "def get_departments_table():\n",
    "    r = requests.get(\"https://catalog.utdallas.edu/2024/undergraduate/courses\")\n",
    "    soup = BeautifulSoup(r.content, \"html.parser\")\n",
    "    table = soup.find(\"table\", {\"id\": \"courses\"})\n",
    "    department_table = []\n",
    "    table_body = table.find(\"tbody\")\n",
    "\n",
    "    rows = table_body.find_all(\"tr\")\n",
    "    for row in rows:\n",
    "        cols = row.find_all(\"td\")\n",
    "        cols = [ele.text.strip() for ele in cols]\n",
    "        department_table.append([ele for ele in cols if ele])  # Get rid of empty values\n",
    "    return department_table\n",
    "\n",
    "department_table = get_departments_table()"
   ]
  },
  {
   "cell_type": "code",
   "execution_count": null,
   "id": "a0ea8f92",
   "metadata": {},
   "outputs": [],
   "source": [
    "def get_course_infomation(department_table):\n",
    "    courses = {}\n",
    "    for x in department_table:\n",
    "        prefix = x[0]\n",
    "        r = requests.get(\n",
    "            \"https://catalog.utdallas.edu/2024/undergraduate/courses/\" + prefix\n",
    "        )\n",
    "        soup = BeautifulSoup(r.content, \"html.parser\")\n",
    "        courses_listing = soup.find(\"div\", {\"id\": \"bukku-page\"})\n",
    "        paragraphs = courses_listing.find_all(\"p\")\n",
    "        for course in paragraphs:\n",
    "            course_id = course.get(\"id\").upper()\n",
    "            prefix = course_id[:-4]\n",
    "            number = course_id[-4:]\n",
    "            course_id = f\"{prefix} {number}\"\n",
    "            name = course.find(\"span\", {\"class\": \"course_title\"}).text.strip()\n",
    "            text = (\n",
    "                course.text.strip()\n",
    "                .replace(\",\", \"\")\n",
    "                .replace(\"or better\", \"\")\n",
    "                .replace(\"or higher\", \"\")\n",
    "                .replace(\"or equivalent\", \"\")\n",
    "                .replace(\"  \", \" \")\n",
    "            )\n",
    "            prerequisite_match = re.search(\n",
    "                r\"\\. Prerequisites?:\\s([a-zA-Z0-9\\(\\ )]*)\\.\", text\n",
    "            )\n",
    "            corequisite_match = re.search(\n",
    "                r\"\\. Corequisites?:\\s([a-zA-Z0-9\\(\\ )]*)\\.\", text\n",
    "            )\n",
    "            prerequisite_or_corequisite_match = re.search(\n",
    "                r\"\\. (Prerequisites? or Corequisites?:|Corequisites? or Prerequisites?:)\\s([a-zA-Z0-9\\(\\ )]*)\\.\",\n",
    "                text,\n",
    "            )\n",
    "            courses[course_id] = {\n",
    "                \"prefix\": prefix,\n",
    "                \"number\": number,\n",
    "                \"name\": name,\n",
    "                \"requisites\": {\n",
    "                    \"prerequisites\": prerequisite_match.group(1).strip()\n",
    "                    if prerequisite_match\n",
    "                    else \"\",\n",
    "                    \"corequisites\": corequisite_match.group(1).strip()\n",
    "                    if corequisite_match\n",
    "                    else \"\",\n",
    "                    \"prerequisitesOrCorequisites\": prerequisite_or_corequisite_match.group(\n",
    "                        2\n",
    "                    ).strip()\n",
    "                    if prerequisite_or_corequisite_match\n",
    "                    else \"\",\n",
    "                },\n",
    "            }\n",
    "    return courses"
   ]
  },
  {
   "cell_type": "code",
   "execution_count": null,
   "id": "2c0a6a2b",
   "metadata": {},
   "outputs": [],
   "source": [
    "# courses = get_course_infomation(list(filter(lambda x: x[0] == \"CS\", department_table)))\n",
    "courses = get_course_infomation(department_table)"
   ]
  },
  {
   "cell_type": "code",
   "execution_count": null,
   "id": "cf7d8d5e",
   "metadata": {},
   "outputs": [],
   "source": [
    "import copy\n",
    "courses2 = copy.deepcopy(courses)"
   ]
  },
  {
   "cell_type": "code",
   "execution_count": null,
   "id": "bd4b3d14",
   "metadata": {},
   "outputs": [],
   "source": [
    "print(json.dumps(courses, indent=4))"
   ]
  },
  {
   "cell_type": "markdown",
   "id": "9d244439",
   "metadata": {},
   "source": [
    "## Miscellaneous"
   ]
  },
  {
   "cell_type": "code",
   "execution_count": null,
   "id": "43a4a4fe",
   "metadata": {},
   "outputs": [],
   "source": [
    "# If you need to condense boolean trees"
   ]
  },
  {
   "cell_type": "code",
   "execution_count": null,
   "id": "eae43711",
   "metadata": {},
   "outputs": [],
   "source": [
    "# schools = {\n",
    "#     \"Erik Jonsson School of Engineering and Computer Science\",\n",
    "#     \"Harry W. Bass Jr. School of Arts, Humanities, and Technology\",\n",
    "#     \"Honors College\",\n",
    "#     \"Naveen Jindal School of Management\",\n",
    "#     \"School of Behavioral and Brain Sciences\",\n",
    "#     \"School of Economic, Political and Policy Sciences\",\n",
    "#     \"School of Interdisciplinary Studies\",\n",
    "#     \"School of Natural Sciences and Mathematics\",\n",
    "#     \"Undergraduate Studies\",\n",
    "# }"
   ]
  },
  {
   "cell_type": "code",
   "execution_count": null,
   "id": "1b9bfab2",
   "metadata": {},
   "outputs": [],
   "source": [
    "schools = {\n",
    "    \"Engineering and Computer Science\",\n",
    "    \"Arts, Humanities, and Technology\",\n",
    "    \"Honors College\",\n",
    "    \"Naveen Jindal Management\",\n",
    "    \"Behavioral and Brain Sciences\",\n",
    "    \"Economic, Political and Policy Sciences\",\n",
    "    \"Interdisciplinary Studies\",\n",
    "    \"Natural Sciences and Mathematics\",\n",
    "    \"Undergraduate Studies\",\n",
    "}"
   ]
  },
  {
   "cell_type": "code",
   "execution_count": null,
   "id": "82a29827",
   "metadata": {},
   "outputs": [],
   "source": [
    "def tokenize_req_description(desc):\n",
    "    desc = desc.upper()\n",
    "    desc = desc.replace(\"WITH A GRADE\", \"WITH A MINIMUM GRADE\")\n",
    "    # treat case WITH a GRADE as pretend multiplication\n",
    "    desc = desc.replace(\"WITH A MINIMUM GRADE\", \"COND WITH A MINIMUM GRADE\")\n",
    "    desc = desc.replace(\",\", \"\").replace(\".\", \"\")\n",
    "\n",
    "    # schools can have AND in their names\n",
    "    for school in schools:\n",
    "        desc = desc.replace(school.upper().replace(\",\", \"\"), school.upper().replace(\",\", \"\").replace(\"AND\", \"\"))\n",
    "    result = re.findall(r\"(\\(|\\)|((?!\\bAND\\b|\\bOR\\b|\\bCOND\\b|\\(|\\)).)+|\\bAND\\b|\\bOR\\b|\\bCOND\\b)\", desc)\n",
    "    return list(map(lambda x: x[0].strip(), list(filter(lambda x: x[0].strip() != \"\", result))))"
   ]
  },
  {
   "cell_type": "code",
   "execution_count": null,
   "id": "3c0a5518",
   "metadata": {},
   "outputs": [],
   "source": [
    "# might want to change and to be higher precedence than or\n",
    "def infix_to_postfix(tokens):\n",
    "    if len(tokens) == 1:\n",
    "        return tokens\n",
    "    def precedence(op):\n",
    "        if op == \"COND\":\n",
    "            return 3\n",
    "        if op == \"AND\":\n",
    "            return 2\n",
    "        if op == \"OR\":\n",
    "            return 1\n",
    "        return 0\n",
    "    stack = []\n",
    "    result = []\n",
    "    for token in tokens:\n",
    "        if token == \"(\":\n",
    "            stack.append(token)\n",
    "        elif token == \")\":\n",
    "            while stack[-1] != \"(\":\n",
    "                result.append(stack.pop())\n",
    "            stack.pop()\n",
    "        elif token in [\"AND\", \"OR\", \"COND\"]:\n",
    "            while len(stack) > 0 and precedence(stack[-1]) >= precedence(token):\n",
    "                result.append(stack.pop())\n",
    "            stack.append(token)\n",
    "        else:  # append operand\n",
    "            result.append(token)\n",
    "    while len(stack) > 0:\n",
    "        result.append(stack.pop())\n",
    "    return result"
   ]
  },
  {
   "cell_type": "code",
   "execution_count": null,
   "id": "4b959674",
   "metadata": {},
   "outputs": [],
   "source": [
    "def postfix_to_tree(tokens):\n",
    "    if len(tokens) == 1:\n",
    "        return Node(\"AND\", children=[Node(tokens[0])])\n",
    "    operators = [\"AND\", \"OR\", \"COND\"]\n",
    "    stack = []\n",
    "    for token in tokens:\n",
    "        if token in operators:\n",
    "            right = stack.pop()\n",
    "            left = stack.pop()\n",
    "            stack.append(Node(token, children=[left, right]))\n",
    "        else:\n",
    "            stack.append(Node(token))\n",
    "    if len(tokens) == 1:\n",
    "        return stack.append(Node(tokens[0]))\n",
    "    return stack[0]"
   ]
  },
  {
   "cell_type": "code",
   "execution_count": null,
   "id": "dc328ab0",
   "metadata": {},
   "outputs": [],
   "source": [
    "# simplify binary tree operators by combining nodes with the same operator\n",
    "def simplify_tree(node):\n",
    "    if len(node.children) == 0:\n",
    "        return node\n",
    "    children = list(node.children)\n",
    "    # detach from parent\n",
    "    for child in children:\n",
    "        child.parent = None\n",
    "    for i in range(len(children)):\n",
    "        children[i] = simplify_tree(children[i])\n",
    "    # reattach to parent\n",
    "    node.children = children\n",
    "    if node.name == \"AND\":\n",
    "        children = []\n",
    "        for child in node.children:\n",
    "            if child.name == \"AND\":\n",
    "                children.extend(child.children)\n",
    "            else:\n",
    "                children.append(child)\n",
    "        node.children = children\n",
    "    if node.name == \"OR\":\n",
    "        children = []\n",
    "        for child in node.children:\n",
    "            if child.name == \"OR\":\n",
    "                children.extend(child.children)\n",
    "            else:\n",
    "                children.append(child)\n",
    "        node.children = children\n",
    "    if node.name == \"COND\":\n",
    "        children = []\n",
    "        for child in node.children:\n",
    "            if child.name == \"COND\":\n",
    "                children.extend(child.children)\n",
    "            else:\n",
    "                children.append(child)\n",
    "        node.children = children\n",
    "    return node"
   ]
  },
  {
   "cell_type": "code",
   "execution_count": null,
   "id": "05ec1677",
   "metadata": {},
   "outputs": [],
   "source": [
    "def displayTree(node):\n",
    "    for pre, _, node in RenderTree(node):\n",
    "        print(\"%s%s\" % (pre, node.name))"
   ]
  },
  {
   "cell_type": "code",
   "execution_count": null,
   "id": "36e6444e",
   "metadata": {},
   "outputs": [],
   "source": [
    "def tree_string(node):\n",
    "    result = \"\"\n",
    "    for pre, _, node in RenderTree(node):\n",
    "        result += \"%s%s\\n\" % (pre, node.name)\n",
    "    return result"
   ]
  },
  {
   "cell_type": "code",
   "execution_count": null,
   "id": "7871a874",
   "metadata": {},
   "outputs": [],
   "source": [
    "def force_AND_as_root(node):\n",
    "    return Node(\"AND\", children=[node])"
   ]
  },
  {
   "cell_type": "code",
   "execution_count": null,
   "id": "f8c12ef8",
   "metadata": {},
   "outputs": [],
   "source": [
    "def display_requisites_as_tree(req):\n",
    "    displayTree(simplify_tree(force_AND_as_root(postfix_to_tree(infix_to_postfix(tokenize_req_description(req))))))"
   ]
  },
  {
   "cell_type": "code",
   "execution_count": null,
   "id": "34d6fcc0",
   "metadata": {},
   "outputs": [],
   "source": [
    "def requisites_as_tree_string(req):\n",
    "    return tree_string(simplify_tree(force_AND_as_root(postfix_to_tree(infix_to_postfix(tokenize_req_description(req))))))"
   ]
  },
  {
   "cell_type": "code",
   "execution_count": null,
   "id": "fb9292d9",
   "metadata": {},
   "outputs": [],
   "source": [
    "courses3 = copy.deepcopy(courses2)\n",
    "with open(\"requisite_trees_big.txt\", \"w\", encoding=\"utf-8\") as f:\n",
    "    for course_id, course in courses3.items():\n",
    "        if course[\"requisites\"][\"prerequisites\"] != \"\":\n",
    "            f.write(f\"{course_id} {course['name']}\\n\")\n",
    "            f.write(\"Prerequisites or Corequisites:\\n\")\n",
    "            f.write(requisites_as_tree_string(course[\"requisites\"][\"prerequisites\"]))\n",
    "            f.write(\"\\n\")\n",
    "        if course[\"requisites\"][\"corequisites\"] != \"\":\n",
    "            f.write(f\"{course_id} {course['name']}\\n\")\n",
    "            f.write(\"Corequisites:\\n\")\n",
    "            f.write(requisites_as_tree_string(course[\"requisites\"][\"corequisites\"]))\n",
    "            f.write(\"\\n\")\n",
    "        if course[\"requisites\"][\"prerequisitesOrCorequisites\"] != \"\":\n",
    "            f.write(f\"{course_id} {course['name']}\\n\")\n",
    "            f.write(\"Prerequisites:\\n\")\n",
    "            f.write(requisites_as_tree_string(course[\"requisites\"][\"prerequisitesOrCorequisites\"]))\n",
    "            f.write(\"\\n\")"
   ]
  },
  {
   "cell_type": "markdown",
   "id": "1dbb3a53",
   "metadata": {},
   "source": [
    "## Requisites Final"
   ]
  },
  {
   "cell_type": "code",
   "execution_count": null,
   "id": "631051c6",
   "metadata": {},
   "outputs": [],
   "source": [
    "def boolean_tree_to_json(node):\n",
    "    if len(node.children) == 0:\n",
    "        return node.name\n",
    "    children = []\n",
    "    for child in node.children:\n",
    "        children.append(boolean_tree_to_json(child))\n",
    "    return {node.name: children}"
   ]
  },
  {
   "cell_type": "code",
   "execution_count": null,
   "id": "59e1a359",
   "metadata": {},
   "outputs": [],
   "source": [
    "def json_to_requisite_json(req, condition=None):\n",
    "    if type(req) is str:\n",
    "        course_pattern = re.compile(\"([A-Z]{2,4} [0-9V]{4})\")\n",
    "        if course_pattern.match(req):\n",
    "            if condition is not None:\n",
    "                return {\"type\": \"course\", \"courseID\": req, \"minGrade\": condition}\n",
    "            else: \n",
    "                return {\"type\": \"course\", \"courseID\": req}\n",
    "        else:\n",
    "            # just put everything else as custom\n",
    "            return {\"type\": \"custom\", \"text\": req}\n",
    "    for key in req:\n",
    "        if key == \"AND\":\n",
    "            return {\n",
    "                \"logicalOperator\": \"AND\",\n",
    "                \"requisites\": [json_to_requisite_json(x, condition) for x in req[key]],\n",
    "            }\n",
    "        if key == \"OR\":\n",
    "            return {\n",
    "                \"logicalOperator\": \"OR\",\n",
    "                \"requisites\": [json_to_requisite_json(x, condition) for x in req[key]],\n",
    "            }\n",
    "        if key == \"COND\":\n",
    "            # the minimum grade condition is the last key, trust me bro\n",
    "            condition_text = req[key][-1]\n",
    "            letter_grade = condition_text.replace(\"WITH A MINIMUM GRADE OF\", \"\").strip()\n",
    "            return [\n",
    "                json_to_requisite_json(x, letter_grade)\n",
    "                for x in req[key]\n",
    "                if \"WITH A MINIMUM GRADE\" not in x\n",
    "            ]"
   ]
  },
  {
   "cell_type": "code",
   "execution_count": null,
   "id": "ebd8dde0",
   "metadata": {},
   "outputs": [],
   "source": [
    "courses = copy.deepcopy(courses2)\n",
    "for course_id, course in courses.items():\n",
    "    if course[\"requisites\"][\"prerequisites\"] != \"\":\n",
    "        courses[course_id][\"requisites\"][\"prerequisites\"] = json_to_requisite_json(\n",
    "            boolean_tree_to_json(\n",
    "                simplify_tree(\n",
    "                    force_AND_as_root(\n",
    "                        postfix_to_tree(\n",
    "                            infix_to_postfix(\n",
    "                                tokenize_req_description(\n",
    "                                    courses[course_id][\"requisites\"][\"prerequisites\"]\n",
    "                                )\n",
    "                            )\n",
    "                        )\n",
    "                    )\n",
    "                )\n",
    "            )\n",
    "        )\n",
    "        # courses[course_id][\"requisites\"][\"prerequisites\"] = boolean_tree_to_json(simplify_tree(force_AND_as_root(postfix_to_tree(infix_to_postfix(tokenize_req_description(courses[course_id][\"requisites\"][\"prerequisites\"]))))))\n",
    "    else:\n",
    "        courses[course_id][\"requisites\"][\"prerequisites\"] = {}\n",
    "\n",
    "    if course[\"requisites\"][\"corequisites\"] != \"\":\n",
    "        courses[course_id][\"requisites\"][\"corequisites\"] = json_to_requisite_json(\n",
    "            boolean_tree_to_json(\n",
    "                simplify_tree(\n",
    "                    force_AND_as_root(\n",
    "                        postfix_to_tree(\n",
    "                            infix_to_postfix(\n",
    "                                tokenize_req_description(\n",
    "                                    course[\"requisites\"][\"corequisites\"]\n",
    "                                )\n",
    "                            )\n",
    "                        )\n",
    "                    )\n",
    "                )\n",
    "            )\n",
    "        )\n",
    "        # courses[course_id][\"requisites\"][\"corequisites\"] = boolean_tree_to_json(simplify_tree(force_AND_as_root(postfix_to_tree(infix_to_postfix(tokenize_req_description(course[\"requisites\"][\"corequisites\"]))))))\n",
    "    else:\n",
    "        courses[course_id][\"requisites\"][\"corequisites\"] = {}\n",
    "\n",
    "    if course[\"requisites\"][\"prerequisitesOrCorequisites\"] != \"\":\n",
    "        courses[course_id][\"requisites\"][\"prerequisitesOrCorequisites\"] = (\n",
    "            json_to_requisite_json(\n",
    "                boolean_tree_to_json(\n",
    "                    simplify_tree(\n",
    "                        force_AND_as_root(\n",
    "                            postfix_to_tree(\n",
    "                                infix_to_postfix(\n",
    "                                    tokenize_req_description(\n",
    "                                        course[\"requisites\"][\n",
    "                                            \"prerequisitesOrCorequisites\"\n",
    "                                        ]\n",
    "                                    )\n",
    "                                )\n",
    "                            )\n",
    "                        )\n",
    "                    )\n",
    "                )\n",
    "            )\n",
    "        )\n",
    "        # courses[course_id][\"requisites\"][\"prerequisitesOrCorequisites\"] = boolean_tree_to_json(simplify_tree(force_AND_as_root(postfix_to_tree(infix_to_postfix(tokenize_req_description(course[\"requisites\"][\"prerequisitesOrCorequisites\"]))))))\n",
    "    else:\n",
    "        courses[course_id][\"requisites\"][\"prerequisitesOrCorequisites\"] = {}"
   ]
  },
  {
   "cell_type": "code",
   "execution_count": null,
   "id": "22c4c324",
   "metadata": {},
   "outputs": [],
   "source": [
    "len(courses2)"
   ]
  },
  {
   "cell_type": "code",
   "execution_count": null,
   "id": "6b7c46b8",
   "metadata": {},
   "outputs": [],
   "source": [
    "with open(\"course_info.json\", \"w\", encoding=\"utf-8\") as f:\n",
    "    json.dump(courses, f, indent=4)"
   ]
  }
 ],
 "metadata": {
  "kernelspec": {
   "display_name": ".venv",
   "language": "python",
   "name": "python3"
  },
  "language_info": {
   "codemirror_mode": {
    "name": "ipython",
    "version": 3
   },
   "file_extension": ".py",
   "mimetype": "text/x-python",
   "name": "python",
   "nbconvert_exporter": "python",
   "pygments_lexer": "ipython3",
   "version": "3.11.0rc2"
  }
 },
 "nbformat": 4,
 "nbformat_minor": 5
}
